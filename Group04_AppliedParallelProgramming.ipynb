{
  "nbformat": 4,
  "nbformat_minor": 0,
  "metadata": {
    "colab": {
      "name": "Group04-AppliedParallelProgramming.ipynb",
      "provenance": [],
      "toc_visible": true,
      "collapsed_sections": [],
      "authorship_tag": "ABX9TyOWUeKmxhjiQJrS7n1T3/gP",
      "include_colab_link": true
    },
    "kernelspec": {
      "name": "python3",
      "display_name": "Python 3"
    },
    "language_info": {
      "name": "python"
    }
  },
  "cells": [
    {
      "cell_type": "markdown",
      "metadata": {
        "id": "view-in-github",
        "colab_type": "text"
      },
      "source": [
        "<a href=\"https://colab.research.google.com/github/pdthuc/Applied-Parallel-Programming/blob/main/Group04_AppliedParallelProgramming.ipynb\" target=\"_parent\"><img src=\"https://colab.research.google.com/assets/colab-badge.svg\" alt=\"Open In Colab\"/></a>"
      ]
    },
    {
      "cell_type": "markdown",
      "source": [
        "# BÁO CÁO ĐỒ ÁN MÔN \"LẬP TRÌNH SONG SONG ỨNG DỤNG\"\n",
        "### GVHD: TRẦN TRUNG KIÊN\n",
        "### THỰC HIỆN: Nhóm 04\n",
        "### DANH SÁCH THÀNH VIÊN\n",
        "  1. 18120167 - Nguyễn Viết Dũng\n",
        "  2. 18120579 - Đặng Minh Thọ\n",
        "  3. 18120584 - Phạm Đình Thục\n",
        "  \n",
        "#### Link thùng chứa Github của nhóm: https://github.com/pdthuc/Applied-Parallel-Programming\n",
        "#### Link kế hoạch phân công và làm việc nhóm: https://docs.google.com/spreadsheets/d/1ujRUfYyoGNbrof7VHU2Sj7fGFMxFfGlP1nINrSmHjgc/edit?usp=sharing\n",
        "#### Link Notebook: https://colab.research.google.com/drive/1B78maMjn4Kj92OiXho6Zem89KnpvBc9k"
      ],
      "metadata": {
        "id": "wORAxZFN4j0M"
      }
    },
    {
      "cell_type": "markdown",
      "source": [
        "# **1. GIỚI THIỆU ĐỀ TÀI**"
      ],
      "metadata": {
        "id": "0IwpCJQl6VXX"
      }
    },
    {
      "cell_type": "markdown",
      "source": [
        "\n",
        "### **1.1 MÔ TẢ TỔNG QUAN**"
      ],
      "metadata": {
        "id": "uXh5Gpde6ckf"
      }
    },
    {
      "cell_type": "markdown",
      "source": [
        " <font size=\"5\"> \n",
        "**Tên đề tài:** \n",
        "TImage-Search-using-Parallel-Computing\n",
        "*(Công cụ Tìm kiếm Hình ảnh bằng kỹ thuật truy vấn truy xuất hình ảnh dựa trên nội dung liên quan )*</font> \n",
        "\n"
      ],
      "metadata": {
        "id": "Y-dKStCr75ju"
      }
    },
    {
      "cell_type": "markdown",
      "source": [
        "\n",
        "Với sự phát triển mạnh mẽ của internet, mọi người có thể tiếp cận với một lượng lớn thông tin. Do đó, việc truy xuất thông tin quan tâm trở nên rất khó khăn.\n",
        "Chẳng hạn như ảnh, video ở nhiều định dạng khác nhau như JPG, PNG, BMP và thậm chí cả GIF. \n",
        "\n",
        "-> Do đó cần có một công cụ tìm kiếm hình ảnh để tìm kiếm các hình ảnh liên quan và chính xác.\n",
        "Truy xuất hình ảnh dựa trên nội dung tìm kiếm các phương pháp để index, browse và truy vấn cơ sở dữ liệu hình ảnh lớn bằng cách sử dụng các phương pháp feature extraction và so sánh các feature.\n",
        "\n",
        "- **Input:** Hình ảnh trong dataset.\n",
        "- **Output:** Những hình ảnh liên quan với ảnh input từ dataset."
      ],
      "metadata": {
        "id": "WJOXEfUZIFyq"
      }
    },
    {
      "cell_type": "markdown",
      "source": [
        "\n",
        "<table><tr>\n",
        "<td> <img src=\"https://drive.google.com/uc?id=1ykGFVzg4c4SnFjCUAL3OTJjz45NTHwvn\n",
        "\" width=\"400\"  style=\"width: 250px;\"/> </td>\n",
        "<td> <img src=\"https://drive.google.com/uc?id=1jS8PtyG7BzEQ3y65Rc0y5Wnaiex0Kwat\" width=\"550\" style=\"width: 250px;\"/> </td>\n",
        "</tr></table>\n",
        "\n"
      ],
      "metadata": {
        "id": "U9eIKOcqKZvg"
      }
    },
    {
      "cell_type": "markdown",
      "source": [
        "### **1.2 VẤN ĐỀ SONG SONG HÓA**\n"
      ],
      "metadata": {
        "id": "QTSUpyctORYq"
      }
    },
    {
      "cell_type": "markdown",
      "source": [
        "\n",
        "Ứng dụng nảy có cần song song hóa hay không?\n",
        "\n",
        "-> <font size=\"5\"> **Có** </font> \n",
        "\n",
        "Vì:\n",
        "- Bài toán sẽ làm việc với một số lượng lớn hình ảnh\n",
        "- Thuật toán xử lý và lưu trữ dữ liệu hình ảnh\n",
        "- Sử dụng các phương pháp feature extraction và xử lý quá trình extraction\n",
        "\n",
        "Với sự trợ giúp của song song, quá trình nặng nhọc này có thể được chia thành nhiều tác vụ nhỏ hơn và thực hiện chúng cùng một lúc. Điều này giúp chương trình chạy nhanh hơn, mượt mà hơn và sử dụng tài nguyên hiệu quả hơn rất nhiều. Do đó, việc thực hiện song song trong tìm kiếm hình ảnh có thể giảm đáng kể thời gian truy xuất và cải thiện hiệu suất của hệ thống truy xuất vốn rất quan trọng trong "
      ],
      "metadata": {
        "id": "Exk3OC0kbzXk"
      }
    },
    {
      "cell_type": "markdown",
      "source": [
        "# TÀI LIỆU THAM KHẢO\n",
        "\n",
        "1.   *https://github.com/Defcon27/Image-Search-using-Parallel-Computing*\n",
        "\n",
        "Và nhóm xin gửi lời cảm ơn đặc biệt đến https://stackoverflow.com/ vì đã hỗ trợ nhóm trong quá trình làm đồ án này. ♥♥♥\n",
        "\n",
        "\n"
      ],
      "metadata": {
        "id": "2EXPkXbxPhIL"
      }
    }
  ]
}